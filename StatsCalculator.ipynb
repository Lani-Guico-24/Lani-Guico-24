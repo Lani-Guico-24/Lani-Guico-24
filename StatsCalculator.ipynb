{
 "cells": [
  {
   "cell_type": "markdown",
   "metadata": {},
   "source": [
    "## Stats Practice 2 Calculator"
   ]
  },
  {
   "cell_type": "code",
   "execution_count": 2,
   "metadata": {},
   "outputs": [],
   "source": [
    "#just plug the values in the variables\n",
    "import scipy.stats as st"
   ]
  },
  {
   "cell_type": "code",
   "execution_count": 3,
   "metadata": {},
   "outputs": [
    {
     "name": "stdout",
     "output_type": "stream",
     "text": [
      "Normal Distribution: \n",
      "-0.9495412844036698\n",
      "\n",
      "Cumulative distribution function: \n",
      "0.1711726925527492\n"
     ]
    }
   ],
   "source": [
    "#norange\n",
    "#Greater than is this\n",
    "#if it is asking less than, just invert the formula to (z-u)/o\n",
    "u = 52.55\n",
    "o = 8.72\n",
    "z = 60.83\n",
    "\n",
    "_cdf = ((u-z)/o)\n",
    "print(\"Normal Distribution: \")\n",
    "print(_cdf)\n",
    "\n",
    "print(\"\\nCumulative distribution function: \")\n",
    "print(st.norm.cdf(_cdf))"
   ]
  },
  {
   "cell_type": "code",
   "execution_count": 4,
   "metadata": {},
   "outputs": [
    {
     "name": "stdout",
     "output_type": "stream",
     "text": [
      "Normal Distribution: \n",
      "0.5483870967741938\n",
      "-1.4967741935483871\n",
      "\n",
      "Cumulative distribution function: \n",
      "Z1: 0.5483870967741938\n",
      "Z2: -1.4967741935483871\n",
      "\n",
      "After subtraction: \n",
      "0.6410609211138678\n"
     ]
    }
   ],
   "source": [
    "# with range for interval\n",
    "u = 32.21\n",
    "o = 6.2\n",
    "z1 = 28.81\n",
    "z2 = 41.49\n",
    "\n",
    "_cdf1 = ((u-z1)/o)\n",
    "_cdf2 = ((u-z2)/o)\n",
    "\n",
    "print(\"Normal Distribution: \")\n",
    "print(_cdf1)\n",
    "print(_cdf2)\n",
    "\n",
    "print(\"\\nCumulative distribution function: \")\n",
    "print(\"Z1:\",_cdf1)\n",
    "print(\"Z2:\",_cdf2)\n",
    "_cdf1 = st.norm.cdf(_cdf1)\n",
    "_cdf2 = st.norm.cdf(_cdf2)\n",
    "\n",
    "print(\"\\nAfter subtraction: \")\n",
    "iCdf = _cdf1 - _cdf2\n",
    "print(iCdf)"
   ]
  },
  {
   "cell_type": "code",
   "execution_count": null,
   "metadata": {},
   "outputs": [],
   "source": []
  }
 ],
 "metadata": {
  "kernelspec": {
   "display_name": "Python 3 (ipykernel)",
   "language": "python",
   "name": "python3"
  },
  "language_info": {
   "codemirror_mode": {
    "name": "ipython",
    "version": 3
   },
   "file_extension": ".py",
   "mimetype": "text/x-python",
   "name": "python",
   "nbconvert_exporter": "python",
   "pygments_lexer": "ipython3",
   "version": "3.9.12"
  },
  "vscode": {
   "interpreter": {
    "hash": "b6d97ab7d53adc21b49ebce7ea81579ac4c6d323f514610f837ab27e3803e215"
   }
  }
 },
 "nbformat": 4,
 "nbformat_minor": 2
}
